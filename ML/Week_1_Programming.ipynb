{
  "nbformat": 4,
  "nbformat_minor": 0,
  "metadata": {
    "colab": {
      "provenance": [],
      "include_colab_link": true
    },
    "kernelspec": {
      "name": "python3",
      "display_name": "Python 3"
    },
    "language_info": {
      "name": "python"
    },
    "gpuClass": "standard"
  },
  "cells": [
    {
      "cell_type": "markdown",
      "metadata": {
        "id": "view-in-github",
        "colab_type": "text"
      },
      "source": [
        "<a href=\"https://colab.research.google.com/github/manasi584/Tutorials/blob/main/ML/Week_1_Programming.ipynb\" target=\"_parent\"><img src=\"https://colab.research.google.com/assets/colab-badge.svg\" alt=\"Open In Colab\"/></a>"
      ]
    },
    {
      "cell_type": "markdown",
      "source": [
        "# Week-1\n",
        "\n",
        "**Note to Learners**:\n",
        "\n",
        "- Click on \"Copy to Drive\", the button that appears just below the taskbar, to make a copy of this notebook in your drive. If you continue working with this notebook, changes **will not** be saved.\n",
        "\n",
        "\n",
        "- For questions that involve plotting, just enter $0$ as the answer in the portal.\n",
        "- For numerical questions, there are two parts. The first part expects you to compute some quantity, say a parameter of a machine learning model. The second part will require you to convert this quantity (if it is not a scalar) into a scalar so that it can be entered as the answer on the portal to the corresponding NAT question.\n",
        "\n"
      ],
      "metadata": {
        "id": "53TcQvUOjGxr"
      }
    },
    {
      "cell_type": "markdown",
      "source": [
        "## Dataset\n",
        "\n",
        "We will be working with a subset of the [MNIST dataset](https://en.wikipedia.org/wiki/MNIST_database). Run the cell given below to generate the data-matrix $\\mathbf{X}$, which is of shape $(n, d)$, where $n$ denotes the number of samples and $d$ denotes the number of features. You will be using this dataset for the rest of the assignment. Do not edit this cell."
      ],
      "metadata": {
        "id": "I3DzbeU33QxN"
      }
    },
    {
      "cell_type": "code",
      "source": [
        "##### DATASET GENERATION #####\n",
        "import numpy as np\n",
        "from keras.datasets import mnist\n",
        "(X_train, y_train), (X_test, y_test) = mnist.load_data()\n",
        "X = X_train[y_train == 2][: 100].reshape(-1, 28 * 28)\n",
        "test_image = X_test[y_test == 2][0].reshape(28 * 28)\n",
        "##### DO NOT EDIT THIS CELL #####"
      ],
      "metadata": {
        "id": "uOBXmnyg3ZFH"
      },
      "execution_count": 9,
      "outputs": []
    },
    {
      "cell_type": "markdown",
      "source": [
        "## Problem-1\n",
        "\n",
        "How many samples does the dataset have?"
      ],
      "metadata": {
        "id": "5RyvzK8z4o47"
      }
    },
    {
      "cell_type": "code",
      "source": [
        "# Enter your solution here\n",
        "X.shape\n",
        "\n",
        "X[0]"
      ],
      "metadata": {
        "id": "rFXCXoje52x-",
        "colab": {
          "base_uri": "https://localhost:8080/"
        },
        "outputId": "55f542f6-5ac0-491d-eb15-8d7acb3811c0"
      },
      "execution_count": 8,
      "outputs": [
        {
          "output_type": "execute_result",
          "data": {
            "text/plain": [
              "array([  0,   0,   0,   0,   0,   0,   0,   0,   0,   0,   0,   0,   0,\n",
              "         0,   0,   0,   0,   0,   0,   0,   0,   0,   0,   0,   0,   0,\n",
              "         0,   0,   0,   0,   0,   0,   0,   0,   0,   0,   0,   0,   0,\n",
              "         0,   0,   0,   0,   0,   0,   0,   0,   0,   0,   0,   0,   0,\n",
              "         0,   0,   0,   0,   0,   0,   0,   0,   0,   0,   0,   0,   0,\n",
              "         0,   0,   0,   0,   0,   0,   0,   0,   0,   0,   0,   0,   0,\n",
              "         0,   0,   0,   0,   0,   0,   0,   0,   0,   0,   0,   0,   0,\n",
              "         0,   0,   0,   0,   0,   0,   0,   0,   0,   0,   0,   0,   0,\n",
              "         0,   0,   0,   0,   0,   0,   0,   0,   0,   0,   0,   0,   0,\n",
              "         0,   0,   0,   0,   0,   0,   0,   0,   0,   0,   0,   0,   0,\n",
              "         0,   0,   0,   0,   0,   0,   0,   0,   0,   0,   0,   0,   0,\n",
              "         0,   0,   0,   0,   0,   0,   0,   0,   0,   0,   0,   0,  13,\n",
              "        25, 100, 122,   7,   0,   0,   0,   0,   0,   0,   0,   0,   0,\n",
              "         0,   0,   0,   0,   0,   0,   0,   0,   0,   0,   0,   0,  33,\n",
              "       151, 208, 252, 252, 252, 146,   0,   0,   0,   0,   0,   0,   0,\n",
              "         0,   0,   0,   0,   0,   0,   0,   0,   0,   0,   0,   0,  40,\n",
              "       152, 244, 252, 253, 224, 211, 252, 232,  40,   0,   0,   0,   0,\n",
              "         0,   0,   0,   0,   0,   0,   0,   0,   0,   0,   0,   0,  15,\n",
              "       152, 239, 252, 252, 252, 216,  31,  37, 252, 252,  60,   0,   0,\n",
              "         0,   0,   0,   0,   0,   0,   0,   0,   0,   0,   0,   0,   0,\n",
              "         0,  96, 252, 252, 252, 252, 217,  29,   0,  37, 252, 252,  60,\n",
              "         0,   0,   0,   0,   0,   0,   0,   0,   0,   0,   0,   0,   0,\n",
              "         0,   0,   0, 181, 252, 252, 220, 167,  30,   0,   0,  77, 252,\n",
              "       252,  60,   0,   0,   0,   0,   0,   0,   0,   0,   0,   0,   0,\n",
              "         0,   0,   0,   0,   0,  26, 128,  58,  22,   0,   0,   0,   0,\n",
              "       100, 252, 252,  60,   0,   0,   0,   0,   0,   0,   0,   0,   0,\n",
              "         0,   0,   0,   0,   0,   0,   0,   0,   0,   0,   0,   0,   0,\n",
              "         0,   0, 157, 252, 252,  60,   0,   0,   0,   0,   0,   0,   0,\n",
              "         0,   0,   0,   0,   0,   0,   0,   0,   0,   0,   0,   0,   0,\n",
              "       110, 121, 122, 121, 202, 252, 194,   3,   0,   0,   0,   0,   0,\n",
              "         0,   0,   0,   0,   0,   0,   0,   0,   0,   0,   0,   0,  10,\n",
              "        53, 179, 253, 253, 255, 253, 253, 228,  35,   0,   0,   0,   0,\n",
              "         0,   0,   0,   0,   0,   0,   0,   0,   0,   0,   0,   0,   5,\n",
              "        54, 227, 252, 243, 228, 170, 242, 252, 252, 231, 117,   6,   0,\n",
              "         0,   0,   0,   0,   0,   0,   0,   0,   0,   0,   0,   0,   0,\n",
              "         6,  78, 252, 252, 125,  59,   0,  18, 208, 252, 252, 252, 252,\n",
              "        87,   7,   0,   0,   0,   0,   0,   0,   0,   0,   0,   0,   0,\n",
              "         0,   5, 135, 252, 252, 180,  16,   0,  21, 203, 253, 247, 129,\n",
              "       173, 252, 252, 184,  66,  49,  49,   0,   0,   0,   0,   0,   0,\n",
              "         0,   0,   3, 136, 252, 241, 106,  17,   0,  53, 200, 252, 216,\n",
              "        65,   0,  14,  72, 163, 241, 252, 252, 223,   0,   0,   0,   0,\n",
              "         0,   0,   0,   0, 105, 252, 242,  88,  18,  73, 170, 244, 252,\n",
              "       126,  29,   0,   0,   0,   0,   0,  89, 180, 180,  37,   0,   0,\n",
              "         0,   0,   0,   0,   0,   0, 231, 252, 245, 205, 216, 252, 252,\n",
              "       252, 124,   3,   0,   0,   0,   0,   0,   0,   0,   0,   0,   0,\n",
              "         0,   0,   0,   0,   0,   0,   0,   0, 207, 252, 252, 252, 252,\n",
              "       178, 116,  36,   4,   0,   0,   0,   0,   0,   0,   0,   0,   0,\n",
              "         0,   0,   0,   0,   0,   0,   0,   0,   0,   0,  13,  93, 143,\n",
              "       121,  23,   6,   0,   0,   0,   0,   0,   0,   0,   0,   0,   0,\n",
              "         0,   0,   0,   0,   0,   0,   0,   0,   0,   0,   0,   0,   0,\n",
              "         0,   0,   0,   0,   0,   0,   0,   0,   0,   0,   0,   0,   0,\n",
              "         0,   0,   0,   0,   0,   0,   0,   0,   0,   0,   0,   0,   0,\n",
              "         0,   0,   0,   0,   0,   0,   0,   0,   0,   0,   0,   0,   0,\n",
              "         0,   0,   0,   0,   0,   0,   0,   0,   0,   0,   0,   0,   0,\n",
              "         0,   0,   0,   0,   0,   0,   0,   0,   0,   0,   0,   0,   0,\n",
              "         0,   0,   0,   0,   0,   0,   0,   0,   0,   0,   0,   0,   0,\n",
              "         0,   0,   0,   0,   0,   0,   0,   0,   0,   0,   0,   0,   0,\n",
              "         0,   0,   0,   0,   0,   0,   0,   0,   0,   0,   0,   0,   0,\n",
              "         0,   0,   0,   0,   0,   0,   0,   0,   0,   0,   0,   0,   0,\n",
              "         0,   0,   0,   0,   0,   0,   0,   0,   0,   0,   0,   0,   0,\n",
              "         0,   0,   0,   0], dtype=uint8)"
            ]
          },
          "metadata": {},
          "execution_count": 8
        }
      ]
    },
    {
      "cell_type": "markdown",
      "source": [
        "## Problem-2\n",
        "\n",
        "How many features does the dataset have?"
      ],
      "metadata": {
        "id": "UrmLi2sK4ynX"
      }
    },
    {
      "cell_type": "code",
      "source": [
        "# Enter your solution here\n",
        "type(X.shape)"
      ],
      "metadata": {
        "id": "WQ75O4D141R0",
        "colab": {
          "base_uri": "https://localhost:8080/"
        },
        "outputId": "6edc9b33-78a6-4465-ccfc-9e38a867b995"
      },
      "execution_count": 12,
      "outputs": [
        {
          "output_type": "execute_result",
          "data": {
            "text/plain": [
              "tuple"
            ]
          },
          "metadata": {},
          "execution_count": 12
        }
      ]
    },
    {
      "cell_type": "markdown",
      "source": [
        "## Problem-3\n",
        "\n",
        "Each sample corresponds to an image of dimension $28 \\times 28$. Visualize one of these images using the `matplotlib` library.\n",
        "\n",
        "- You need to know how to reshape a feature vector. Refer to week-0 content for the same.\n",
        "- You can refer to the following [document](https://matplotlib.org/stable/tutorials/introductory/images.html#sphx-glr-tutorials-introductory-images-py) for plotting NumPy arrays as images using `matplotlib`."
      ],
      "metadata": {
        "id": "BPUFxtI55G2h"
      }
    },
    {
      "cell_type": "code",
      "source": [
        "# Enter your solution here\n",
        "from PIL import Image\n",
        "\n",
        "import matplotlib.pyplot as plt\n",
        "import numpy as np\n",
        "\n",
        "imgplot = plt.imshow(X[0].reshape(28,28))"
      ],
      "metadata": {
        "id": "ExvRNXPZ6246",
        "colab": {
          "base_uri": "https://localhost:8080/",
          "height": 430
        },
        "outputId": "dd610908-ca5c-4111-efb8-33740863edc2"
      },
      "execution_count": 10,
      "outputs": [
        {
          "output_type": "display_data",
          "data": {
            "text/plain": [
              "<Figure size 640x480 with 1 Axes>"
            ],
            "image/png": "[encoded data removed]"
          },
          "metadata": {}
        }
      ]
    },
    {
      "cell_type": "markdown",
      "source": [
        "## Problem-4\n",
        "\n",
        "Center the the dataset $\\mathbf{X}$ around its mean. Call this centered dataset $\\mathbf{X}^{\\prime}$.\n",
        "\n",
        "<u>Conversion</u>\n",
        "\n",
        "Enter the following quantity as your answer correct to two decimal places:\n",
        "\n",
        "$$\n",
        "\\cfrac{1}{n \\cdot d} \\sqrt{\\sum \\limits_{i = 1}^{n} \\sum \\limits_{j = 1}^{d} (X_{ij}^{\\prime})^2}\n",
        "$$"
      ],
      "metadata": {
        "id": "8e2xflo8FF8K"
      }
    },
    {
      "cell_type": "code",
      "source": [
        "# Enter your solution here\n",
        "import math\n",
        "\n",
        "XCentered=X-np.mean(X,axis=0)\n",
        "csum=np.sum(XCentered**2,axis=0)\n",
        "sum=np.sum(csum)\n",
        "print((sum**0.5)/(X.shape[0]*X.shape[1]))\n"
      ],
      "metadata": {
        "id": "9uNDPtBjH5Df",
        "colab": {
          "base_uri": "https://localhost:8080/"
        },
        "outputId": "828a20f2-3e91-44a0-a7de-f16cab136c1c"
      },
      "execution_count": 18,
      "outputs": [
        {
          "output_type": "stream",
          "name": "stdout",
          "text": [
            "0.23242174456564685\n"
          ]
        }
      ]
    },
    {
      "cell_type": "markdown",
      "source": [
        "## Problem-5\n",
        "\n",
        "Compute the covariance matrix $\\mathbf{C}$ of the centered dataset.\n",
        "\n",
        "<u>Conversion</u>\n",
        "\n",
        "Enter the following quantity as your answer correct to two decimal places:\n",
        "\n",
        "$$\n",
        "\\cfrac{1}{d^2} \\sqrt{\\sum \\limits_{i = 1}^{d} \\sum \\limits_{j = 1}^{d} C_{ij}^2}\n",
        "$$"
      ],
      "metadata": {
        "id": "8UPKuD8uJCnE"
      }
    },
    {
      "cell_type": "code",
      "source": [
        "# Enter your solution here\n",
        "XCovariance=np.transpose(XCentered)@XCentered\n",
        "XCovariance=XCovariance*(1/XCentered.shape[0])\n",
        "\n",
        "csum=np.sum(XCovariance**2,axis=0)\n",
        "sum=np.sum(csum)\n",
        "print((sum**0.5)/(X.shape[1]**2))"
      ],
      "metadata": {
        "id": "ZWT1bzBDlk2m",
        "colab": {
          "base_uri": "https://localhost:8080/"
        },
        "outputId": "6985ace8-6b95-4c1b-f453-51e3f87e258f"
      },
      "execution_count": 20,
      "outputs": [
        {
          "output_type": "stream",
          "name": "stdout",
          "text": [
            "1.3648061009232249\n"
          ]
        }
      ]
    },
    {
      "cell_type": "markdown",
      "source": [
        "## Problem-6\n",
        "\n",
        "Compute the first and second principal components of the dataset, $\\mathbf{w}_1$ and $\\mathbf{w}_2$.\n",
        "\n",
        "<u>Conversion</u>\n",
        "\n",
        "Compute:\n",
        "$$\n",
        "\\mathbf{w} = \\mathbf{w}_1 + \\mathbf{w}_2\n",
        "$$\n",
        "\n",
        "Enter the following quantity as your answer correct to two decimal places:\n",
        "\n",
        "$$\n",
        "\\left| \\sum \\limits_{i = 1}^{d} w_i \\right|\n",
        "$$"
      ],
      "metadata": {
        "id": "FfJK8OiMr2mh"
      }
    },
    {
      "cell_type": "code",
      "source": [
        "# Enter your solution here\n",
        "eigenvalues, eigenvectors = np.linalg.eigh(XCovariance)\n",
        "# Step 5: Sort the eigenvalues and eigenvectors in descending order\n",
        "# The largest eigenvalues correspond to the principal components with the most variance\n",
        "sorted_index = np.argsort(eigenvalues)[::-1]\n",
        "sorted_eigenvalues = eigenvalues[sorted_index]\n",
        "sorted_eigenvectors = eigenvectors[:, sorted_index]\n",
        "\n",
        "# Step 6: Get the first and second principal components (eigenvectors corresponding to the top two eigenvalues)\n",
        "w1 = sorted_eigenvectors[:, 0]  # First principal component\n",
        "w2 = sorted_eigenvectors[:, 1]  # Second principal component\n",
        "\n",
        "\n",
        "w=w1+w2\n",
        "print(np.sum(w))"
      ],
      "metadata": {
        "id": "KgJ1FCa1tvZR",
        "colab": {
          "base_uri": "https://localhost:8080/"
        },
        "outputId": "e255d617-deb2-47bf-f01b-5e01e3aac0d9"
      },
      "execution_count": 22,
      "outputs": [
        {
          "output_type": "stream",
          "name": "stdout",
          "text": [
            "1.0516243880598295\n"
          ]
        }
      ]
    },
    {
      "cell_type": "markdown",
      "source": [
        "## Problem-7\n",
        "\n",
        "Visualize the first principal component as an image."
      ],
      "metadata": {
        "id": "9CBt_pmj-5pl"
      }
    },
    {
      "cell_type": "code",
      "source": [
        "# Enter your solution here\n",
        "imgplot=plt.imshow(w1.reshape(28,28))"
      ],
      "metadata": {
        "id": "KXiJLyT7_N29",
        "colab": {
          "base_uri": "https://localhost:8080/",
          "height": 430
        },
        "outputId": "53828065-9e6d-416d-82d7-380ff633c4c6"
      },
      "execution_count": 23,
      "outputs": [
        {
          "output_type": "display_data",
          "data": {
            "text/plain": [
              "<Figure size 640x480 with 1 Axes>"
            ],
            "image/png": "[encoded data removed]"
          },
          "metadata": {}
        }
      ]
    },
    {
      "cell_type": "markdown",
      "source": [
        "## Problem-8\n",
        "\n",
        "Find the smallest value of $k$ for which the first $k$ principal components capture at least $95\\%$ of the variance in the data."
      ],
      "metadata": {
        "id": "o37ie_mqxqhy"
      }
    },
    {
      "cell_type": "code",
      "source": [
        "# Enter your solution here\n",
        "total_variance = np.sum(sorted_eigenvalues)\n",
        "cumulative_variance = np.cumsum(sorted_eigenvalues) / total_variance\n",
        "\n",
        "# Step 7: Find the smallest value of k where the cumulative variance exceeds 95%\n",
        "k = np.argmax(cumulative_variance >= 0.95) + 1  # Adding 1 because index starts from 0\n",
        "\n",
        "# Output the smallest k and the cumulative variance at that point\n",
        "print(f\"Smallest value of k for 95% variance: {k}\")\n",
        "print(f\"Cumulative variance for k={k}: {cumulative_variance[k-1] * 100:.2f}%\")"
      ],
      "metadata": {
        "id": "_JiPpEwCyvQK",
        "colab": {
          "base_uri": "https://localhost:8080/"
        },
        "outputId": "ee972f0c-0edc-4c37-ff34-2db58ac26400"
      },
      "execution_count": 24,
      "outputs": [
        {
          "output_type": "stream",
          "name": "stdout",
          "text": [
            "Smallest value of k for 95% variance: 53\n",
            "Cumulative variance for k=53: 95.08%\n"
          ]
        }
      ]
    },
    {
      "cell_type": "markdown",
      "source": [
        "## Problem-9\n",
        "\n",
        "Given a `test_image`, visualize the proxies  by reconstructing it using the top $k$ principal components. Consider four values of $k$; values of $k$ for which the top-$k$ principal components explain:\n",
        "\n",
        "- 20% of the variance\n",
        "- 50% of the variance\n",
        "- 80% of the variance\n",
        "- 95% of the variance\n",
        "\n"
      ],
      "metadata": {
        "id": "5raTmu_s0Gpq"
      }
    },
    {
      "cell_type": "code",
      "source": [
        "# Enter your solution here\n",
        "import matplotlib.pyplot as plt\n",
        "from sklearn.decomposition import PCA\n",
        "# Step 2: Standardize the dataset (mean-center the data)\n",
        "X_meaned = X - np.mean(X, axis=0)\n",
        "\n",
        "# Step 3: Perform PCA on the dataset\n",
        "pca = PCA()\n",
        "pca.fit(X_meaned)\n",
        "\n",
        "# Step 4: Get cumulative variance explained by principal components\n",
        "cumulative_variance = np.cumsum(pca.explained_variance_ratio_)\n",
        "\n",
        "# Step 5: Find the number of components for each explained variance (20%, 50%, 80%, 95%)\n",
        "k_20 = np.argmax(cumulative_variance >= 0.20) + 1\n",
        "k_50 = np.argmax(cumulative_variance >= 0.50) + 1\n",
        "k_80 = np.argmax(cumulative_variance >= 0.80) + 1\n",
        "k_95 = np.argmax(cumulative_variance >= 0.95) + 1\n",
        "\n",
        "# Step 6: Reconstruct the image using the top-k components for each case\n",
        "def reconstruct_image(pca, X_meaned, test_image, k):\n",
        "    # Project the image onto the top k components\n",
        "    transformed_image = pca.transform(X_meaned[:1])[:, :k]  # Project only the test image\n",
        "    # Reconstruct the image using the top k components\n",
        "    reconstructed_image = pca.inverse_transform(np.hstack([transformed_image, np.zeros((1, pca.n_components_ - k))]))\n",
        "    return reconstructed_image[0]\n",
        "\n",
        "# Reconstruct the test image using k=20%, 50%, 80%, 95%\n",
        "test_image_20 = reconstruct_image(pca, X_meaned, test_image, k_20)\n",
        "test_image_50 = reconstruct_image(pca, X_meaned, test_image, k_50)\n",
        "test_image_80 = reconstruct_image(pca, X_meaned, test_image, k_80)\n",
        "test_image_95 = reconstruct_image(pca, X_meaned, test_image, k_95)\n",
        "\n",
        "# Step 7: Visualize the original and reconstructed images\n",
        "def plot_images(original, images, titles):\n",
        "    plt.figure(figsize=(10, 4))\n",
        "    plt.subplot(1, len(images)+1, 1)\n",
        "    plt.imshow(original.reshape(28, 28), cmap='gray')\n",
        "    plt.title(\"Original\")\n",
        "    plt.axis('off')\n",
        "\n",
        "    for i, img in enumerate(images):\n",
        "        plt.subplot(1, len(images)+1, i+2)\n",
        "        plt.imshow(img.reshape(28, 28), cmap='gray')\n",
        "        plt.title(titles[i])\n",
        "        plt.axis('off')\n",
        "\n",
        "# Plot the original and reconstructed images\n",
        "plot_images(test_image, [test_image_20, test_image_50, test_image_80, test_image_95],\n",
        "            [f\"k={k_20} (20%)\", f\"k={k_50} (50%)\", f\"k={k_80} (80%)\", f\"k={k_95} (95%)\"])\n",
        "plt.show()"
      ],
      "metadata": {
        "id": "yrjf1Er24vLo",
        "colab": {
          "base_uri": "https://localhost:8080/",
          "height": 192
        },
        "outputId": "92c922d4-077e-4d71-a996-551aee0cd40b"
      },
      "execution_count": 25,
      "outputs": [
        {
          "output_type": "display_data",
          "data": {
            "text/plain": [
              "<Figure size 1000x400 with 5 Axes>"
            ],
            "image/png": "[encoded data removed]"
          },
          "metadata": {}
        }
      ]
    }
  ]
}